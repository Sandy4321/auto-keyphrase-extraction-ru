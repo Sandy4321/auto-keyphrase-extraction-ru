{
 "cells": [
  {
   "cell_type": "code",
   "execution_count": 1,
   "metadata": {},
   "outputs": [],
   "source": [
    "\"\"\"Preprocess text extracted from scholarly articles into keyphrase candidates.       \n",
    "\n",
    "The expected input is a list of text extracted from scholarly papers published in Russian from\n",
    "the dialog conference. The first step is to remove the reference section and any unusually short\n",
    "paragraphs. Then, parenthesized and bracketed text are removed, as well as any words that happen\n",
    "to be cut off at a new page boundary.\n",
    "\n",
    "The text is then tokenized using the preprocessing and tokenization technique developed by \n",
    "WebVectores [Kutuzov 2017]. At this point, documents in the corpus are transformed into\n",
    "lists of tokens corresponding to the paragraphs in the document. Tokens are unigrams of lowercased\n",
    "lemmas or punctuation marks.\n",
    "\n",
    "Each document is then broken into sentences, and n-grams are added. This results in each document\n",
    "being transformed into a list of sentence tokens, which may be unigrams, bigrams, or trigrams.\n",
    "Finally, the sentence tokens are filtered to remove any unusually short or long tokens and stop\n",
    "words. The document is flattened, resulting in it being transformed into a list of keyphrase \n",
    "candidate tokens.\n",
    "\n",
    "Typical usage example:\n",
    "\n",
    "    file_names = get_file_names(\"../data/raw_txt/2010/ru\", \".txt\")\n",
    "    corpus = [get_text(name) for name in file_names]\n",
    "    corpus = ScholarlyPreprocessor.preprocess(corpus, file_names)\n",
    "\"\"\"\n",
    "\n",
    "# Reset the kernel (ipython magic command)\n",
    "%reset -f"
   ]
  },
  {
   "cell_type": "code",
   "execution_count": 2,
   "metadata": {},
   "outputs": [
    {
     "data": {
      "text/plain": [
       "<Figure size 432x288 with 0 Axes>"
      ]
     },
     "metadata": {},
     "output_type": "display_data"
    },
    {
     "data": {
      "image/png": "[encoded data removed]",
      "text/plain": [
       "<Figure size 720x360 with 1 Axes>"
      ]
     },
     "metadata": {
      "needs_background": "light"
     },
     "output_type": "display_data"
    }
   ],
   "source": [
    "from helpers import get_file_names\n",
    "from pathlib import Path\n",
    "\n",
    "import matplotlib.pyplot as plt\n",
    "\n",
    "\n",
    "# Extract all articles from 2010-2020\n",
    "year_range = range(2006, 2021)\n",
    "en_docs = []\n",
    "ru_docs = []\n",
    "\n",
    "for year in year_range:\n",
    "    en_docs.append(len(get_file_names(\"../data/raw_txt/\" +\n",
    "                                      str(year) + \"/en\", \".txt\")))\n",
    "    ru_docs.append(len(get_file_names(\"../data/raw_txt/\" +\n",
    "                                      str(year) + \"/ru\", \".txt\")))\n",
    "\n",
    "plt.clf()\n",
    "plt.figure(figsize=(10,5))\n",
    "plt.title(\"Language of Dialog Papers from 2010-2020\")\n",
    "plt.xlabel(\"Year\") \n",
    "plt.ylabel(\"# Papers\")\n",
    "\n",
    "width = 0.35\n",
    "xlocs = [i for i in year_range]\n",
    "plt.bar(year_range, ru_docs, width, label=\"Russian\", color='red')\n",
    "for x, y in enumerate(ru_docs):\n",
    "    plt.text(xlocs[x] - width/2, y + 1, str(y))\n",
    "\n",
    "plt.bar([year + width for year in year_range], en_docs, width, label=\"English\",\n",
    "       color='blue')\n",
    "for x, y in enumerate(en_docs):\n",
    "    plt.text(xlocs[x] + width/2, y + 1, str(y))\n",
    "\n",
    "plt.xticks([year + width/2 for year in year_range], year_range)\n",
    "plt.legend(loc=\"best\")\n",
    "plt.savefig('../data/LDA/language_distribution.png')\n",
    "plt.show()"
   ]
  },
  {
   "cell_type": "code",
   "execution_count": 16,
   "metadata": {
    "scrolled": true
   },
   "outputs": [
    {
     "name": "stdout",
     "output_type": "stream",
     "text": [
      "-------------------------------------------------- \n",
      "Raw text, before any preprocessing:\n",
      "\n",
      "\n",
      "7. Заключение\n",
      "В данной работе представлен опыт создания\n",
      "и развития лингво-семантических представлений\n",
      "в интеллектуальных информационных системах,\n",
      "разработанных на основе аппарата расширенных\n",
      "семантических сетей (РСС). Аппарат РСС обеспечивает мощные изобразительные возможности для\n",
      "описания всех уровней естественного языка, включая уровень глубинно-семантических представлений, и межъязыковых соответствий. Конкретные\n",
      "лингвистические процессоры, которые были соз-\n",
      "даны на основе этого подхода, прошли определенный эволюционный путь и позволили выработать\n",
      "проектные решения для основных задач текущего\n",
      "этапа — извлечения и обработки содержательных\n",
      "знаний из текстов на естественных языках и сопоставления языковых структур в текстах на различных языках с учетом базовых трансформаций.\n",
      "Проблема извлечения и обработки знаний открывает перспективы развития интеллектуальных\n",
      "направлений компьютерной лингвистики, поскольку ее основной акцент смещен в сторону глубинных\n",
      "представлений языка, в которых используются как\n",
      "грамматические (морфологические и синтаксические), так и семантические атрибуты для описания\n",
      "языковых объектов. Проводимые нами исследования параллельных текстов направлены также на рассмотрение этой проблемы [20]. Центральное место\n",
      "в наших лингвистических исследованиях занимает\n",
      "изучение и формализация процессов трансформации языковых структур, особенно все варианты\n",
      "глагольно-номинативных трансформаций, создание развитых дистрибутивно-трансформационных\n",
      "описаний предикатых структур для рассматриваемых языков.\n",
      "Для задач извлечения знаний и создания систем\n",
      "ИСПАР дистрибутивно-трансформационные описания имеют также особое значение, поскольку таким\n",
      "образом задаются все возможные способы перевода языковых структур в предикатно-аргументные\n",
      "представления, которые затем используются в процедурах обработки знаний.\n",
      "Литература\n",
      "1.\n",
      "\n",
      "\n",
      " --------------------------------------------------\n",
      "\n",
      "After removing the references section, short paragraphs, parenthesized/bracketed text, and text at pagebreaks:\n",
      "\n",
      "\n",
      "7. Заключение В данной работе представлен опыт создания и развития лингво-семантических представлений в интеллектуальных информационных системах, разработанных на основе аппарата расширенных семантических сетей . Аппарат РСС обеспечивает мощные изобразительные возможности для описания всех уровней естественного языка, включая уровень глубинно-семантических представлений, и межъязыковых соответствий. Конкретные лингвистические процессоры, которые были даны на основе этого подхода, прошли определенный эволюционный путь и позволили выработать проектные решения для основных задач текущего этапа — извлечения и обработки содержательных знаний из текстов на естественных языках и сопоставления языковых структур в текстах на различных языках с учетом базовых трансформаций. Проблема извлечения и обработки знаний открывает перспективы развития интеллектуальных направлений компьютерной лингвистики, поскольку ее основной акцент смещен в сторону глубинных представлений языка, в которых используются как грамматические , так и семантические атрибуты для описания языковых объектов. Проводимые нами исследования параллельных текстов направлены также на рассмотрение этой проблемы . Центральное место в наших лингвистических исследованиях занимает изучение и формализация процессов трансформации языковых структур, особенно все варианты глагольно-номинативных трансформаций, создание развитых дистрибутивно-трансформационных описаний предикатых структур для рассматриваемых языков. Для задач извлечения знаний и создания систем ИСПАР дистрибутивно-трансформационные описания имеют также особое значение, поскольку таким образом задаются все возможные способы перевода языковых структур в предикатно-аргументные представления, которые затем используются в процедурах обработки знаний.\n",
      "\n",
      "\n",
      " --------------------------------------------------\n"
     ]
    },
    {
     "name": "stderr",
     "output_type": "stream",
     "text": [
      "2020-07-18 22:37:31,156 : INFO : collecting all words and their counts\n",
      "2020-07-18 22:37:31,158 : INFO : PROGRESS: at sentence #0, processed 0 words and 0 word types\n",
      "2020-07-18 22:37:31,159 : INFO : collected 230 word types from a corpus of 198 words (unigram + bigrams) and 8 sentences\n",
      "2020-07-18 22:37:31,160 : INFO : using 230 counts as vocab in Phrases<0 vocab, min_count=3, threshold=10.0, max_vocab_size=40000000>\n",
      "2020-07-18 22:37:31,161 : INFO : collecting all words and their counts\n",
      "2020-07-18 22:37:31,162 : INFO : PROGRESS: at sentence #0, processed 0 words and 0 word types\n",
      "2020-07-18 22:37:31,165 : INFO : collected 230 word types from a corpus of 198 words (unigram + bigrams) and 8 sentences\n",
      "2020-07-18 22:37:31,166 : INFO : using 230 counts as vocab in Phrases<0 vocab, min_count=1, threshold=10.0, max_vocab_size=40000000>\n"
     ]
    },
    {
     "name": "stdout",
     "output_type": "stream",
     "text": [
      "\n",
      "After tokenization:\n",
      "\n",
      "\n",
      "['x', '.', 'заключение', 'в', 'данный', 'работа', 'представлять', 'опыт', 'создание', 'и', 'развитие', 'лингво-семантический', 'представление', 'в', 'интеллектуальный', 'информационный', 'система', ',', 'разрабатывать', 'на', 'основа', 'аппарат', 'расширить', 'семантический', 'сеть', '.', 'аппарат::рсс', 'обеспечивать', 'мощный', 'изобразительный', 'возможность', 'для', 'описание', 'весь', 'уровень', 'естественный', 'язык', ',', 'включая', 'уровень', 'глубинный', '-', 'семантический', 'представление', ',', 'и', 'межъязыковый', 'соответствие', '.', 'конкретный', 'лингвистический', 'процессор', ',', 'который', 'быть', 'давать', 'на', 'основа', 'этот', 'подход', ',', 'проходить', 'определенный', 'эволюционный', 'путь', 'и', 'позволять', 'вырабатывать', 'проектный', 'решение', 'для', 'основной', 'задача', 'текущий', 'этап', '—', 'извлечение', 'и', 'обработка', 'содержательный', 'знание', 'из', 'текст', 'на', 'естественный', 'язык', 'и', 'сопоставление', 'языковой', 'структура', 'в', 'текст', 'на', 'различный', 'язык', 'с', 'учет', 'базовый', 'трансформация', '.', 'проблема', 'извлечение', 'и', 'обработка', 'знание', 'открывать', 'перспектива', 'развитие', 'интеллектуальный', 'направление', 'компьютерный', 'лингвистика', ',', 'поскольку', 'она', 'основной', 'акцент', 'смещать', 'в', 'сторона', 'глубинный', 'представление', 'язык', ',', 'в', 'который', 'использовать', 'как', 'грамматический', ',', 'так', 'и', 'семантический', 'атрибут', 'для', 'описание', 'языковой', 'объект', '.', 'проводить', 'мы', 'исследование', 'параллельный', 'текст', 'направлять', 'также', 'на', 'рассмотрение', 'этот', 'проблема', '.', 'центральный', 'место', 'в', 'наш', 'лингвистический', 'исследование', 'занимать', 'изучение', 'и', 'формализация', 'процесс', 'трансформация', 'языковой', 'структура', ',', 'особенно', 'весь', 'вариант', 'глагольный', '-', 'номинативный', 'трансформация', ',', 'создание', 'развитый', 'дистрибутивно-', 'трансформационный', 'описание', 'предикинать', 'структура', 'для', 'рассматривать', 'язык', '.', 'для', 'задача', 'извлечение', 'знание', 'и', 'создание', 'система', 'испар', 'дистрибутивно-трансформационный', 'описание', 'иметь', 'также', 'особый', 'значение', ',', 'поскольку', 'такой', 'образ', 'задавать', 'весь', 'возможный', 'способ', 'перевод', 'языковой', 'структура', 'в', 'предикатный', '-', 'аргументный', 'представление', ',', 'который', 'затем', 'использовать', 'в', 'процедура', 'обработка', 'знание', '.', '\\n']\n",
      "\n",
      "\n",
      " --------------------------------------------------\n",
      "\n",
      "After removing tokens which do not have at least 1 alphabetical character and are not sentence delimiters:\n",
      "\n",
      "\n",
      "['x', '.', 'заключение', 'в', 'данный', 'работа', 'представлять', 'опыт', 'создание', 'и', 'развитие', 'лингво-семантический', 'представление', 'в', 'интеллектуальный', 'информационный', 'система', 'разрабатывать', 'на', 'основа', 'аппарат', 'расширить', 'семантический', 'сеть', '.', 'обеспечивать', 'мощный', 'изобразительный', 'возможность', 'для', 'описание', 'весь', 'уровень', 'естественный', 'язык', 'включая', 'уровень', 'глубинный', 'семантический', 'представление', 'и', 'межъязыковый', 'соответствие', '.', 'конкретный', 'лингвистический', 'процессор', 'который', 'быть', 'давать', 'на', 'основа', 'этот', 'подход', 'проходить', 'определенный', 'эволюционный', 'путь', 'и', 'позволять', 'вырабатывать', 'проектный', 'решение', 'для', 'основной', 'задача', 'текущий', 'этап', 'извлечение', 'и', 'обработка', 'содержательный', 'знание', 'из', 'текст', 'на', 'естественный', 'язык', 'и', 'сопоставление', 'языковой', 'структура', 'в', 'текст', 'на', 'различный', 'язык', 'с', 'учет', 'базовый', 'трансформация', '.', 'проблема', 'извлечение', 'и', 'обработка', 'знание', 'открывать', 'перспектива', 'развитие', 'интеллектуальный', 'направление', 'компьютерный', 'лингвистика', 'поскольку', 'она', 'основной', 'акцент', 'смещать', 'в', 'сторона', 'глубинный', 'представление', 'язык', 'в', 'который', 'использовать', 'как', 'грамматический', 'так', 'и', 'семантический', 'атрибут', 'для', 'описание', 'языковой', 'объект', '.', 'проводить', 'мы', 'исследование', 'параллельный', 'текст', 'направлять', 'также', 'на', 'рассмотрение', 'этот', 'проблема', '.', 'центральный', 'место', 'в', 'наш', 'лингвистический', 'исследование', 'занимать', 'изучение', 'и', 'формализация', 'процесс', 'трансформация', 'языковой', 'структура', 'особенно', 'весь', 'вариант', 'глагольный', 'номинативный', 'трансформация', 'создание', 'развитый', 'трансформационный', 'описание', 'предикинать', 'структура', 'для', 'рассматривать', 'язык', '.', 'для', 'задача', 'извлечение', 'знание', 'и', 'создание', 'система', 'испар', 'дистрибутивно-трансформационный', 'описание', 'иметь', 'также', 'особый', 'значение', 'поскольку', 'такой', 'образ', 'задавать', 'весь', 'возможный', 'способ', 'перевод', 'языковой', 'структура', 'в', 'предикатный', 'аргументный', 'представление', 'который', 'затем', 'использовать', 'в', 'процедура', 'обработка', 'знание', '.', '\\n']\n",
      "\n",
      "\n",
      " --------------------------------------------------\n",
      "\n",
      "After adding bigrams and trigrams:\n",
      "\n",
      "\n",
      "['x']\n",
      "['заключение', 'в', 'данный', 'работа', 'представлять', 'опыт', 'создание', 'и', 'развитие', 'лингво-семантический', 'представление', 'в', 'интеллектуальный', 'информационный', 'система', 'разрабатывать', 'на', 'основа', 'аппарат', 'расширить', 'семантический', 'сеть']\n",
      "['обеспечивать', 'мощный', 'изобразительный', 'возможность', 'для', 'описание', 'весь', 'уровень', 'естественный язык', 'включая', 'уровень', 'глубинный', 'семантический', 'представление', 'и', 'межъязыковый', 'соответствие']\n",
      "['конкретный', 'лингвистический', 'процессор', 'который', 'быть', 'давать', 'на', 'основа', 'этот', 'подход', 'проходить', 'определенный', 'эволюционный', 'путь', 'и', 'позволять', 'вырабатывать', 'проектный', 'решение', 'для', 'основной', 'задача', 'текущий', 'этап', 'извлечение и обработка', 'содержательный', 'знание', 'из', 'текст', 'на', 'естественный язык', 'и', 'сопоставление', 'языковой структура', 'в', 'текст', 'на', 'различный', 'язык', 'с', 'учет', 'базовый', 'трансформация']\n",
      "['проблема', 'извлечение и обработка', 'знание', 'открывать', 'перспектива', 'развитие', 'интеллектуальный', 'направление', 'компьютерный', 'лингвистика', 'поскольку', 'она', 'основной', 'акцент', 'смещать', 'в', 'сторона', 'глубинный', 'представление', 'язык', 'в', 'который', 'использовать', 'как', 'грамматический', 'так', 'и', 'семантический', 'атрибут', 'для', 'описание', 'языковой', 'объект']\n",
      "['проводить', 'мы', 'исследование', 'параллельный', 'текст', 'направлять', 'также', 'на', 'рассмотрение', 'этот', 'проблема']\n",
      "['центральный', 'место', 'в', 'наш', 'лингвистический', 'исследование', 'занимать', 'изучение', 'и', 'формализация', 'процесс', 'трансформация', 'языковой структура', 'особенно', 'весь', 'вариант', 'глагольный', 'номинативный', 'трансформация', 'создание', 'развитый', 'трансформационный', 'описание', 'предикинать', 'структура', 'для', 'рассматривать', 'язык']\n",
      "['для', 'задача', 'извлечение', 'знание', 'и', 'создание', 'система', 'испар', 'дистрибутивно-трансформационный', 'описание', 'иметь', 'также', 'особый', 'значение', 'поскольку', 'такой', 'образ', 'задавать', 'весь', 'возможный', 'способ', 'перевод', 'языковой структура', 'в', 'предикатный', 'аргументный', 'представление', 'который', 'затем', 'использовать', 'в', 'процедура', 'обработка знание']\n",
      "\n",
      "\n",
      " --------------------------------------------------\n",
      "\n",
      "After filtering short tokens, long tokens, and stop words:\n",
      "\n",
      "\n",
      "[]\n",
      "['заключение', 'данный', 'представлять', 'опыт', 'создание', 'развитие', 'лингво-семантический', 'представление', 'интеллектуальный', 'информационный', 'система', 'разрабатывать', 'основа', 'аппарат', 'расширить', 'семантический', 'сеть']\n",
      "['обеспечивать', 'мощный', 'изобразительный', 'возможность', 'описание', 'уровень', 'естественный язык', 'включая', 'уровень', 'глубинный', 'семантический', 'представление', 'межъязыковый', 'соответствие']\n",
      "['конкретный', 'лингвистический', 'процессор', 'основа', 'подход', 'проходить', 'определенный', 'эволюционный', 'позволять', 'вырабатывать', 'проектный', 'решение', 'основной', 'задача', 'текущий', 'этап', 'извлечение и обработка', 'содержательный', 'знание', 'текст', 'естественный язык', 'сопоставление', 'языковой структура', 'текст', 'различный', 'язык', 'учет', 'базовый', 'трансформация']\n",
      "['проблема', 'извлечение и обработка', 'знание', 'открывать', 'перспектива', 'развитие', 'интеллектуальный', 'направление', 'компьютерный', 'лингвистика', 'поскольку', 'основной', 'акцент', 'смещать', 'глубинный', 'представление', 'язык', 'использовать', 'грамматический', 'семантический', 'атрибут', 'описание', 'языковой', 'объект']\n",
      "['проводить', 'исследование', 'параллельный', 'текст', 'направлять', 'рассмотрение', 'проблема']\n",
      "['центральный', 'лингвистический', 'исследование', 'занимать', 'изучение', 'формализация', 'процесс', 'трансформация', 'языковой структура', 'вариант', 'глагольный', 'номинативный', 'трансформация', 'создание', 'развитый', 'трансформационный', 'описание', 'предикинать', 'структура', 'рассматривать', 'язык']\n",
      "['задача', 'извлечение', 'знание', 'создание', 'система', 'испар', 'дистрибутивно-трансформационный', 'описание', 'особый', 'значение', 'поскольку', 'образ', 'задавать', 'возможный', 'способ', 'перевод', 'языковой структура', 'предикатный', 'аргументный', 'представление', 'использовать', 'процедура', 'обработка знание']\n",
      "\n",
      "\n",
      " --------------------------------------------------\n",
      "\n",
      "Final preprocessed text:\n",
      "\n",
      " ['заключение', 'данный', 'представлять', 'опыт', 'создание', 'развитие', 'лингво-семантический', 'представление', 'интеллектуальный', 'информационный', 'система', 'разрабатывать', 'основа', 'аппарат', 'расширить', 'семантический', 'сеть', 'обеспечивать', 'мощный', 'изобразительный', 'возможность', 'описание', 'уровень', 'естественный язык', 'включая', 'уровень', 'глубинный', 'семантический', 'представление', 'межъязыковый', 'соответствие', 'конкретный', 'лингвистический', 'процессор', 'основа', 'подход', 'проходить', 'определенный', 'эволюционный', 'позволять', 'вырабатывать', 'проектный', 'решение', 'основной', 'задача', 'текущий', 'этап', 'извлечение и обработка', 'содержательный', 'знание', 'текст', 'естественный язык', 'сопоставление', 'языковой структура', 'текст', 'различный', 'язык', 'учет', 'базовый', 'трансформация', 'проблема', 'извлечение и обработка', 'знание', 'открывать', 'перспектива', 'развитие', 'интеллектуальный', 'направление', 'компьютерный', 'лингвистика', 'поскольку', 'основной', 'акцент', 'смещать', 'глубинный', 'представление', 'язык', 'использовать', 'грамматический', 'семантический', 'атрибут', 'описание', 'языковой', 'объект', 'проводить', 'исследование', 'параллельный', 'текст', 'направлять', 'рассмотрение', 'проблема', 'центральный', 'лингвистический', 'исследование', 'занимать', 'изучение', 'формализация', 'процесс', 'трансформация', 'языковой структура', 'вариант', 'глагольный', 'номинативный', 'трансформация', 'создание', 'развитый', 'трансформационный', 'описание', 'предикинать', 'структура', 'рассматривать', 'язык', 'задача', 'извлечение', 'знание', 'создание', 'система', 'испар', 'дистрибутивно-трансформационный', 'описание', 'особый', 'значение', 'поскольку', 'образ', 'задавать', 'возможный', 'способ', 'перевод', 'языковой структура', 'предикатный', 'аргументный', 'представление', 'использовать', 'процедура', 'обработка знание'] \n",
      "\n",
      " --------------------------------------------------\n"
     ]
    }
   ],
   "source": [
    "from helpers import get_text\n",
    "from pathlib import Path\n",
    "from preprocessing import ScholarlyPreprocessor\n",
    "\n",
    "\n",
    "# Peek at the transformation of the last paragraph of the first document in the corpus\n",
    "# as it progresses through the preprocessing steps\n",
    "file_name = Path(\"../data/raw_txt/2010/ru/\",\n",
    "                 \"эволюция-лингво-семантических-представлений-в-интеллектуальных-системах-на-основе-расширенных-семантических-сетей-p-205.txt\")\n",
    "text = \"\\n\\n\".join(get_text(file_name).split(\"\\n\\n\")[-6:-3])\n",
    "text = ScholarlyPreprocessor.preprocess_one(text, file_name, verbose=True)"
   ]
  },
  {
   "cell_type": "code",
   "execution_count": null,
   "metadata": {},
   "outputs": [],
   "source": [
    "from helpers import get_file_names, get_text\n",
    "from pathlib import Path\n",
    "from preprocessing import ScholarlyPreprocessor\n",
    "\n",
    "import os\n",
    "import pickle\n",
    "\n",
    "\n",
    "# Preprocess the entire corpus\n",
    "year_range = range(2006, 2021)\n",
    "target = str(Path(\"../data/preprocessed\").resolve())\n",
    "if not os.path.exists(target):\n",
    "    os.makedirs(target)\n",
    "\n",
    "for year in year_range:\n",
    "    output_file = Path(target, str(year) + \".pickle\")\n",
    "    if not os.path.isfile(output_file):\n",
    "        print(\"Preprocessing text from\", year, \"to\", output_file)\n",
    "\n",
    "        file_names = get_file_names(\"../data/raw_txt/\" + str(year)\n",
    "                                    + \"/ru\", \".txt\")\n",
    "        corpus = [get_text(name) for name in file_names]\n",
    "        corpus = ScholarlyPreprocessor.preprocess(corpus, file_names)\n",
    "\n",
    "        with open(output_file, \"wb\") as file:\n",
    "            pickle.dump(corpus, file, pickle.HIGHEST_PROTOCOL)\n",
    "        print(\"Finished preprocessing text from\", year, \n",
    "              \"to\", output_file)\n",
    "    else:\n",
    "        print(output_file, \"already preprocessed\")"
   ]
  },
  {
   "cell_type": "code",
   "execution_count": null,
   "metadata": {},
   "outputs": [],
   "source": []
  }
 ],
 "metadata": {
  "kernelspec": {
   "display_name": "Python 3",
   "language": "python",
   "name": "python3"
  },
  "language_info": {
   "codemirror_mode": {
    "name": "ipython",
    "version": 3
   },
   "file_extension": ".py",
   "mimetype": "text/x-python",
   "name": "python",
   "nbconvert_exporter": "python",
   "pygments_lexer": "ipython3",
   "version": "3.7.4"
  }
 },
 "nbformat": 4,
 "nbformat_minor": 4
}
